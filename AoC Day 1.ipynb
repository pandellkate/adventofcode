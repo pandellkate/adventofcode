{
 "cells": [
  {
   "cell_type": "code",
   "execution_count": 59,
   "id": "8fc59fdf",
   "metadata": {},
   "outputs": [],
   "source": [
    "import pandas as pd\n",
    "import numpy as np"
   ]
  },
  {
   "cell_type": "code",
   "execution_count": 163,
   "id": "da8d4666",
   "metadata": {},
   "outputs": [],
   "source": [
    "df = pd.read_csv('C:/aocd1.csv', header = None)"
   ]
  },
  {
   "cell_type": "code",
   "execution_count": 165,
   "id": "c7eb2eba",
   "metadata": {},
   "outputs": [
    {
     "data": {
      "text/html": [
       "<div>\n",
       "<style scoped>\n",
       "    .dataframe tbody tr th:only-of-type {\n",
       "        vertical-align: middle;\n",
       "    }\n",
       "\n",
       "    .dataframe tbody tr th {\n",
       "        vertical-align: top;\n",
       "    }\n",
       "\n",
       "    .dataframe thead th {\n",
       "        text-align: right;\n",
       "    }\n",
       "</style>\n",
       "<table border=\"1\" class=\"dataframe\">\n",
       "  <thead>\n",
       "    <tr style=\"text-align: right;\">\n",
       "      <th></th>\n",
       "      <th>0</th>\n",
       "    </tr>\n",
       "  </thead>\n",
       "  <tbody>\n",
       "    <tr>\n",
       "      <th>0</th>\n",
       "      <td>109</td>\n",
       "    </tr>\n",
       "    <tr>\n",
       "      <th>1</th>\n",
       "      <td>117</td>\n",
       "    </tr>\n",
       "    <tr>\n",
       "      <th>2</th>\n",
       "      <td>118</td>\n",
       "    </tr>\n",
       "    <tr>\n",
       "      <th>3</th>\n",
       "      <td>98</td>\n",
       "    </tr>\n",
       "    <tr>\n",
       "      <th>4</th>\n",
       "      <td>102</td>\n",
       "    </tr>\n",
       "  </tbody>\n",
       "</table>\n",
       "</div>"
      ],
      "text/plain": [
       "     0\n",
       "0  109\n",
       "1  117\n",
       "2  118\n",
       "3   98\n",
       "4  102"
      ]
     },
     "execution_count": 165,
     "metadata": {},
     "output_type": "execute_result"
    }
   ],
   "source": [
    "df.head()"
   ]
  },
  {
   "cell_type": "code",
   "execution_count": 166,
   "id": "62be4d0e",
   "metadata": {},
   "outputs": [],
   "source": [
    "diff = df[0] - df[0].shift(1)"
   ]
  },
  {
   "cell_type": "code",
   "execution_count": 167,
   "id": "48dc58b6",
   "metadata": {},
   "outputs": [
    {
     "name": "stdout",
     "output_type": "stream",
     "text": [
      "0        NaN\n",
      "1        8.0\n",
      "2        1.0\n",
      "3      -20.0\n",
      "4        4.0\n",
      "        ... \n",
      "1995     2.0\n",
      "1996     3.0\n",
      "1997     1.0\n",
      "1998     4.0\n",
      "1999    11.0\n",
      "Name: 0, Length: 2000, dtype: float64\n"
     ]
    }
   ],
   "source": [
    "print(diff)"
   ]
  },
  {
   "cell_type": "code",
   "execution_count": 168,
   "id": "3a5aa9a1",
   "metadata": {},
   "outputs": [],
   "source": [
    "result = sum(i>0 for i in diff)"
   ]
  },
  {
   "cell_type": "code",
   "execution_count": 169,
   "id": "0dc2f8c6",
   "metadata": {},
   "outputs": [
    {
     "name": "stdout",
     "output_type": "stream",
     "text": [
      "1448\n"
     ]
    }
   ],
   "source": [
    "print(result)"
   ]
  },
  {
   "cell_type": "code",
   "execution_count": 170,
   "id": "db0acb05",
   "metadata": {},
   "outputs": [],
   "source": [
    "#problem 2"
   ]
  },
  {
   "cell_type": "code",
   "execution_count": 210,
   "id": "42deb1a0",
   "metadata": {},
   "outputs": [],
   "source": [
    "df2 = df.rolling(3, min_periods=3).sum()"
   ]
  },
  {
   "cell_type": "code",
   "execution_count": 212,
   "id": "79ae8032",
   "metadata": {},
   "outputs": [
    {
     "name": "stdout",
     "output_type": "stream",
     "text": [
      "            0\n",
      "0         NaN\n",
      "1         NaN\n",
      "2       344.0\n",
      "3       333.0\n",
      "4       318.0\n",
      "...       ...\n",
      "1995  18864.0\n",
      "1996  18868.0\n",
      "1997  18874.0\n",
      "1998  18882.0\n",
      "1999  18898.0\n",
      "\n",
      "[2000 rows x 1 columns]\n"
     ]
    }
   ],
   "source": [
    "print(df2)"
   ]
  },
  {
   "cell_type": "code",
   "execution_count": 213,
   "id": "ae3a3d6d",
   "metadata": {},
   "outputs": [],
   "source": [
    "diff2 = df2[0] - df2[0].shift(1)"
   ]
  },
  {
   "cell_type": "code",
   "execution_count": 214,
   "id": "76a6c089",
   "metadata": {},
   "outputs": [
    {
     "name": "stdout",
     "output_type": "stream",
     "text": [
      "0        NaN\n",
      "1        NaN\n",
      "2        NaN\n",
      "3      -11.0\n",
      "4      -15.0\n",
      "        ... \n",
      "1995     2.0\n",
      "1996     4.0\n",
      "1997     6.0\n",
      "1998     8.0\n",
      "1999    16.0\n",
      "Name: 0, Length: 2000, dtype: float64\n"
     ]
    }
   ],
   "source": [
    "print(diff2)"
   ]
  },
  {
   "cell_type": "code",
   "execution_count": 215,
   "id": "8b4d556a",
   "metadata": {},
   "outputs": [],
   "source": [
    "result2 = sum(i>0 for i in diff2)"
   ]
  },
  {
   "cell_type": "code",
   "execution_count": 216,
   "id": "428f374b",
   "metadata": {},
   "outputs": [
    {
     "name": "stdout",
     "output_type": "stream",
     "text": [
      "1471\n"
     ]
    }
   ],
   "source": [
    "print(result2)"
   ]
  },
  {
   "cell_type": "code",
   "execution_count": null,
   "id": "166e9fff",
   "metadata": {},
   "outputs": [],
   "source": []
  }
 ],
 "metadata": {
  "kernelspec": {
   "display_name": "Python 3 (ipykernel)",
   "language": "python",
   "name": "python3"
  },
  "language_info": {
   "codemirror_mode": {
    "name": "ipython",
    "version": 3
   },
   "file_extension": ".py",
   "mimetype": "text/x-python",
   "name": "python",
   "nbconvert_exporter": "python",
   "pygments_lexer": "ipython3",
   "version": "3.9.7"
  }
 },
 "nbformat": 4,
 "nbformat_minor": 5
}
